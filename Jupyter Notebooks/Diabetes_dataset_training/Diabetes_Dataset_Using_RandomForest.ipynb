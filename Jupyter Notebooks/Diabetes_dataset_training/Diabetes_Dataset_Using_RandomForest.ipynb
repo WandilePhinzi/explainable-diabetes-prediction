{
 "cells": [
  {
   "cell_type": "markdown",
   "id": "fa6cc254",
   "metadata": {},
   "source": [
    "1. Load the Required Libraries"
   ]
  },
  {
   "cell_type": "code",
   "execution_count": 42,
   "id": "581de5a8",
   "metadata": {},
   "outputs": [],
   "source": [
    "import pandas as pd\n",
    "import numpy as np\n",
    "import dtale\n",
    "import os\n",
    "import matplotlib.pyplot as plt\n",
    "import seaborn as sns\n",
    "from imblearn.over_sampling import SMOTE\n",
    "import category_encoders as ce\n",
    "from category_encoders import TargetEncoder\n",
    "from sklearn.impute import SimpleImputer\n",
    "from sklearn.experimental import enable_iterative_imputer\n",
    "from sklearn.impute import IterativeImputer,SimpleImputer\n",
    "from sklearn.preprocessing import LabelEncoder, OneHotEncoder,OrdinalEncoder\n",
    "from sklearn.compose import ColumnTransformer\n",
    "from sklearn.model_selection import train_test_split,KFold,cross_val_score\n",
    "from sklearn.preprocessing import StandardScaler\n",
    "from sklearn.ensemble import RandomForestClassifier\n",
    "from sklearn.metrics import accuracy_score, confusion_matrix, classification_report,roc_auc_score,recall_score"
   ]
  },
  {
   "cell_type": "markdown",
   "id": "0e09849b",
   "metadata": {},
   "source": [
    "2. Read the data from the dataset"
   ]
  },
  {
   "cell_type": "code",
   "execution_count": 43,
   "id": "24f30701",
   "metadata": {},
   "outputs": [],
   "source": [
    "df = pd.read_csv(\"D:\\\\ResearchPapers\\\\Datasets\\\\diabetes_dataset.csv\", encoding='latin1')\n",
    "d=dtale.show(df)\n",
    "d.open_browser()"
   ]
  },
  {
   "cell_type": "code",
   "execution_count": 44,
   "id": "a183cf6f",
   "metadata": {},
   "outputs": [],
   "source": [
    "df.head()\n",
    "df.drop(columns=['year','location','race:AfricanAmerican','race:Asian','race:Caucasian','race:Hispanic','race:Other'], inplace=True)"
   ]
  },
  {
   "cell_type": "markdown",
   "id": "1fd81a79",
   "metadata": {},
   "source": [
    "3. Handling missing values and replacing missing values with nan from numpy and replace with mean of all the other values"
   ]
  },
  {
   "cell_type": "code",
   "execution_count": 45,
   "id": "45212a94",
   "metadata": {},
   "outputs": [
    {
     "name": "stdout",
     "output_type": "stream",
     "text": [
      "gender                 0\n",
      "age                    0\n",
      "hypertension           0\n",
      "heart_disease          0\n",
      "smoking_history        0\n",
      "bmi                    0\n",
      "hbA1c_level            0\n",
      "blood_glucose_level    0\n",
      "diabetes               0\n",
      "dtype: int64\n",
      "gender                 0\n",
      "age                    0\n",
      "hypertension           0\n",
      "heart_disease          0\n",
      "smoking_history        0\n",
      "bmi                    0\n",
      "hbA1c_level            0\n",
      "blood_glucose_level    0\n",
      "diabetes               0\n",
      "dtype: int64\n"
     ]
    },
    {
     "data": {
      "text/html": [
       "\n",
       "        <iframe\n",
       "            width=\"100%\"\n",
       "            height=\"475\"\n",
       "            src=\"http://Portia_Lepota:40000/dtale/iframe/17\"\n",
       "            frameborder=\"0\"\n",
       "            allowfullscreen\n",
       "            \n",
       "        ></iframe>\n",
       "        "
      ],
      "text/plain": [
       "<IPython.lib.display.IFrame at 0x1acb38730e0>"
      ]
     },
     "metadata": {},
     "output_type": "display_data"
    },
    {
     "data": {
      "text/plain": []
     },
     "execution_count": 45,
     "metadata": {},
     "output_type": "execute_result"
    }
   ],
   "source": [
    "print(df.isnull().sum())\n",
    "print(df.isna().sum())\n",
    "dtale.show(df)"
   ]
  },
  {
   "cell_type": "code",
   "execution_count": 46,
   "id": "f8474962",
   "metadata": {},
   "outputs": [
    {
     "name": "stdout",
     "output_type": "stream",
     "text": [
      "['never' 'not current' 'current' 'No Info' 'ever' 'former']\n",
      "['Female' 'Male' 'Other']\n"
     ]
    }
   ],
   "source": [
    "# Check unique values in categorical columns\n",
    "print(df['smoking_history'].unique())\n",
    "print(df['gender'].unique())    "
   ]
  },
  {
   "cell_type": "code",
   "execution_count": 47,
   "id": "78e611a3",
   "metadata": {},
   "outputs": [
    {
     "name": "stdout",
     "output_type": "stream",
     "text": [
      "count    100000.000000\n",
      "mean         41.885856\n",
      "std          22.516840\n",
      "min           0.080000\n",
      "25%          24.000000\n",
      "50%          43.000000\n",
      "75%          60.000000\n",
      "max          80.000000\n",
      "Name: age, dtype: float64\n",
      "10.01\n"
     ]
    }
   ],
   "source": [
    "print(df['age'].describe())       # Check min/max age\n",
    "print(df['bmi'].min())            # Check if BMI is 0 or negative"
   ]
  },
  {
   "cell_type": "markdown",
   "id": "7b2dcc05",
   "metadata": {},
   "source": [
    "4. Encoding the categorical data"
   ]
  },
  {
   "cell_type": "code",
   "execution_count": 48,
   "id": "7b3713fb",
   "metadata": {},
   "outputs": [
    {
     "data": {
      "text/html": [
       "\n",
       "        <iframe\n",
       "            width=\"100%\"\n",
       "            height=\"475\"\n",
       "            src=\"http://Portia_Lepota:40000/dtale/iframe/18\"\n",
       "            frameborder=\"0\"\n",
       "            allowfullscreen\n",
       "            \n",
       "        ></iframe>\n",
       "        "
      ],
      "text/plain": [
       "<IPython.lib.display.IFrame at 0x1acb38d9970>"
      ]
     },
     "metadata": {},
     "output_type": "display_data"
    },
    {
     "data": {
      "text/plain": []
     },
     "execution_count": 48,
     "metadata": {},
     "output_type": "execute_result"
    }
   ],
   "source": [
    "label_encoder = LabelEncoder()\n",
    "df['gender'] = label_encoder.fit_transform(df['gender'])\n",
    "dtale.show(df)"
   ]
  },
  {
   "cell_type": "code",
   "execution_count": 49,
   "id": "fa5e8640",
   "metadata": {},
   "outputs": [
    {
     "data": {
      "text/html": [
       "\n",
       "        <iframe\n",
       "            width=\"100%\"\n",
       "            height=\"475\"\n",
       "            src=\"http://Portia_Lepota:40000/dtale/iframe/19\"\n",
       "            frameborder=\"0\"\n",
       "            allowfullscreen\n",
       "            \n",
       "        ></iframe>\n",
       "        "
      ],
      "text/plain": [
       "<IPython.lib.display.IFrame at 0x1acb3839fa0>"
      ]
     },
     "metadata": {},
     "output_type": "display_data"
    },
    {
     "data": {
      "text/plain": []
     },
     "execution_count": 49,
     "metadata": {},
     "output_type": "execute_result"
    }
   ],
   "source": [
    "le = LabelEncoder()\n",
    "df['smoking_history'] = le.fit_transform(df['smoking_history'].astype(str))\n",
    "dtale.show(df)"
   ]
  },
  {
   "cell_type": "markdown",
   "id": "9978f591",
   "metadata": {},
   "source": [
    "4. Split the attribites into dependent and independent attributes"
   ]
  },
  {
   "cell_type": "code",
   "execution_count": 50,
   "id": "2e5a72e4",
   "metadata": {},
   "outputs": [
    {
     "data": {
      "text/html": [
       "\n",
       "        <iframe\n",
       "            width=\"100%\"\n",
       "            height=\"475\"\n",
       "            src=\"http://Portia_Lepota:40000/dtale/iframe/20\"\n",
       "            frameborder=\"0\"\n",
       "            allowfullscreen\n",
       "            \n",
       "        ></iframe>\n",
       "        "
      ],
      "text/plain": [
       "<IPython.lib.display.IFrame at 0x1acb15f51c0>"
      ]
     },
     "metadata": {},
     "output_type": "display_data"
    },
    {
     "data": {
      "text/plain": []
     },
     "execution_count": 50,
     "metadata": {},
     "output_type": "execute_result"
    }
   ],
   "source": [
    "X = df.iloc[:, :-1].values\n",
    "Y = df.iloc[:, -1].values\n",
    "dtale.show(Y, ignore_duplicate=True)"
   ]
  },
  {
   "cell_type": "markdown",
   "id": "d0a904ee",
   "metadata": {},
   "source": [
    "5. Splitting the dataset intro training set and test set"
   ]
  },
  {
   "cell_type": "code",
   "execution_count": 58,
   "id": "c94146b5",
   "metadata": {},
   "outputs": [],
   "source": [
    "X_train, X_test, Y_train, Y_test = train_test_split(X, Y, test_size=0.2, random_state=0)"
   ]
  },
  {
   "cell_type": "markdown",
   "id": "9bffe37a",
   "metadata": {},
   "source": [
    "6. Train the Random Forest Model"
   ]
  },
  {
   "cell_type": "code",
   "execution_count": 59,
   "id": "7036d7c1",
   "metadata": {},
   "outputs": [],
   "source": [
    "rf = RandomForestClassifier(n_estimators=100, max_depth=3, random_state=42)\n",
    "rf.fit(X_train, Y_train)\n",
    "\n",
    "Kfold = KFold(n_splits=10, shuffle=True, random_state=42)\n",
    "scores = cross_val_score(rf, X_train, Y_train, cv=Kfold, scoring='accuracy')\n",
    "\n",
    "Y_pred = rf.predict(X_test)"
   ]
  },
  {
   "cell_type": "code",
   "execution_count": 60,
   "id": "26559448",
   "metadata": {},
   "outputs": [
    {
     "name": "stdout",
     "output_type": "stream",
     "text": [
      "              precision    recall  f1-score   support\n",
      "\n",
      "           0       0.97      1.00      0.98     18294\n",
      "           1       1.00      0.66      0.79      1706\n",
      "\n",
      "    accuracy                           0.97     20000\n",
      "   macro avg       0.98      0.83      0.89     20000\n",
      "weighted avg       0.97      0.97      0.97     20000\n",
      "\n"
     ]
    }
   ],
   "source": [
    "rf.score(X_test, Y_test)\n",
    "print(classification_report(Y_test, Y_pred))"
   ]
  },
  {
   "cell_type": "code",
   "execution_count": 61,
   "id": "018ddb32",
   "metadata": {},
   "outputs": [],
   "source": [
    "rf2 = RandomForestClassifier(\n",
    "    \n",
    "     n_estimators=1000,\n",
    "     criterion= 'entropy',\n",
    "     min_samples_split= 10,\n",
    "    random_state=42)"
   ]
  },
  {
   "cell_type": "markdown",
   "id": "332030e9",
   "metadata": {},
   "source": [
    "8. Retraining the model using Resampled data"
   ]
  },
  {
   "cell_type": "code",
   "execution_count": 62,
   "id": "2a0d12d0",
   "metadata": {},
   "outputs": [
    {
     "name": "stdout",
     "output_type": "stream",
     "text": [
      "0    73206\n",
      "1    73206\n",
      "Name: count, dtype: int64\n"
     ]
    }
   ],
   "source": [
    "smote_enn = SMOTE(sampling_strategy='minority', random_state=42)\n",
    "X_train_res, Y_train_res = smote_enn.fit_resample(X_train, Y_train)\n",
    "print(pd.Series(Y_train_res).value_counts())"
   ]
  },
  {
   "cell_type": "code",
   "execution_count": 63,
   "id": "4c4e7bb4",
   "metadata": {},
   "outputs": [],
   "source": [
    "model = RandomForestClassifier( random_state= 42)\n",
    "model.fit(X_train_res, Y_train_res) \n",
    "Kfold = KFold(n_splits=10, shuffle=True, random_state=42)\n",
    "scores = cross_val_score(model, X_train_res, Y_train_res, cv=Kfold, scoring='accuracy')"
   ]
  },
  {
   "cell_type": "code",
   "execution_count": 64,
   "id": "fb820887",
   "metadata": {},
   "outputs": [
    {
     "name": "stdout",
     "output_type": "stream",
     "text": [
      "              precision  recall  f1-score     support\n",
      "0                0.9730  0.9921    0.9825  18294.0000\n",
      "1                0.8930  0.7046    0.7877   1706.0000\n",
      "accuracy         0.9676  0.9676    0.9676      0.9676\n",
      "macro avg        0.9330  0.8484    0.8851  20000.0000\n",
      "weighted avg     0.9662  0.9676    0.9658  20000.0000\n",
      "ROC-AUC: 0.9648\n",
      "Sensitivity: 0.7046\n",
      "Specificity: 0.9921\n",
      "Confusion Matrix:\n",
      "[[18150   144]\n",
      " [  504  1202]]\n",
      "Mean Accuracy:0.9820 (+/- 0.0013)\n"
     ]
    }
   ],
   "source": [
    "y_pred = model.predict(X_test)\n",
    "y_proba = model.predict_proba(X_test)[:, 1]\n",
    "sensitivity = recall_score(Y_test, y_pred, pos_label=1)\n",
    "roc_auc = roc_auc_score(Y_test, y_proba)\n",
    "\n",
    "tn, fp, fn, tp = confusion_matrix(Y_test, y_pred).ravel()\n",
    "specificity = tn / (tn + fp)\n",
    "\n",
    "report = classification_report(Y_test, y_pred, output_dict=True)\n",
    "df_report = pd.DataFrame(report).transpose()\n",
    "\n",
    "pd.set_option(\"display.precision\", 4)\n",
    "print(df_report)\n",
    "print(f\"ROC-AUC: {roc_auc:.4f}\")\n",
    "print(f\"Sensitivity: {sensitivity:.4f}\")\n",
    "print(f\"Specificity: {specificity:.4f}\")\n",
    "print(f\"Confusion Matrix:\\n{confusion_matrix(Y_test, y_pred)}\")\n",
    "print(f\"Mean Accuracy:{scores.mean():.4f} (+/- {scores.std():.4f})\")"
   ]
  }
 ],
 "metadata": {
  "kernelspec": {
   "display_name": "Python 3",
   "language": "python",
   "name": "python3"
  },
  "language_info": {
   "codemirror_mode": {
    "name": "ipython",
    "version": 3
   },
   "file_extension": ".py",
   "mimetype": "text/x-python",
   "name": "python",
   "nbconvert_exporter": "python",
   "pygments_lexer": "ipython3",
   "version": "3.12.10"
  }
 },
 "nbformat": 4,
 "nbformat_minor": 5
}
