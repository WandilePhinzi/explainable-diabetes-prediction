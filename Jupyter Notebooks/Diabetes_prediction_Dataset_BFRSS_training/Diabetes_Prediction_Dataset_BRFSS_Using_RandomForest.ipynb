{
 "cells": [
  {
   "cell_type": "markdown",
   "id": "fa6cc254",
   "metadata": {},
   "source": [
    "1. Load the Required Libraries"
   ]
  },
  {
   "cell_type": "code",
   "execution_count": 1,
   "id": "581de5a8",
   "metadata": {},
   "outputs": [
    {
     "name": "stderr",
     "output_type": "stream",
     "text": [
      "C:\\Users\\Frank\\AppData\\Local\\Packages\\PythonSoftwareFoundation.Python.3.13_qbz5n2kfra8p0\\LocalCache\\local-packages\\Python313\\site-packages\\dtale\\utils.py:18: UserWarning: pkg_resources is deprecated as an API. See https://setuptools.pypa.io/en/latest/pkg_resources.html. The pkg_resources package is slated for removal as early as 2025-11-30. Refrain from using this package or pin to Setuptools<81.\n",
      "  from pkg_resources import parse_version\n"
     ]
    }
   ],
   "source": [
    "import pandas as pd\n",
    "import numpy as np\n",
    "import dtale\n",
    "import matplotlib.pyplot as plt\n",
    "import seaborn as sns\n",
    "from imblearn.over_sampling import SMOTE\n",
    "from sklearn.impute import SimpleImputer\n",
    "from sklearn.preprocessing import LabelEncoder, OneHotEncoder\n",
    "from sklearn.compose import ColumnTransformer\n",
    "from sklearn.model_selection import train_test_split,KFold,cross_val_score\n",
    "from sklearn.preprocessing import StandardScaler\n",
    "from sklearn.ensemble import RandomForestClassifier\n",
    "from sklearn.metrics import accuracy_score, confusion_matrix, classification_report,roc_auc_score,recall_score"
   ]
  },
  {
   "cell_type": "markdown",
   "id": "0e09849b",
   "metadata": {},
   "source": [
    "2. Read the data from the dataset"
   ]
  },
  {
   "cell_type": "code",
   "execution_count": null,
   "id": "24f30701",
   "metadata": {},
   "outputs": [
    {
     "data": {
      "text/html": [
       "\n",
       "        <iframe\n",
       "            width=\"100%\"\n",
       "            height=\"475\"\n",
       "            src=\"http://WandilePhinzi:40000/dtale/iframe/1\"\n",
       "            frameborder=\"0\"\n",
       "            allowfullscreen\n",
       "            \n",
       "        ></iframe>\n",
       "        "
      ],
      "text/plain": [
       "<IPython.lib.display.IFrame at 0x2805716a3c0>"
      ]
     },
     "metadata": {},
     "output_type": "display_data"
    },
    {
     "data": {
      "text/plain": []
     },
     "execution_count": 2,
     "metadata": {},
     "output_type": "execute_result"
    }
   ],
   "source": [
    "df = pd.read_csv(\"C:\\\\Users\\\\Frank\\\\OneDrive\\\\Documentos\\\\ResearchPapers\\\\Datasets\\\\diabetes_binary_health_indicators_BRFSS2015.csv\", encoding='latin1')\n",
    "dtale.show(df)"
   ]
  },
  {
   "cell_type": "code",
   "execution_count": 3,
   "id": "a183cf6f",
   "metadata": {},
   "outputs": [],
   "source": [
    "df.head()\n",
    "df.drop(columns=['CholCheck','Smoker','Fruits','Veggies','HvyAlcoholConsump','AnyHealthcare','NoDocbcCost','MentHlth','Sex','Education'], inplace=True)"
   ]
  },
  {
   "cell_type": "markdown",
   "id": "c754b1bc",
   "metadata": {},
   "source": [
    "3. Split the attribites into dependent and independent attributes"
   ]
  },
  {
   "cell_type": "code",
   "execution_count": 4,
   "id": "59f6b81d",
   "metadata": {},
   "outputs": [
    {
     "data": {
      "text/html": [
       "\n",
       "        <iframe\n",
       "            width=\"100%\"\n",
       "            height=\"475\"\n",
       "            src=\"http://WandilePhinzi:40000/dtale/iframe/2\"\n",
       "            frameborder=\"0\"\n",
       "            allowfullscreen\n",
       "            \n",
       "        ></iframe>\n",
       "        "
      ],
      "text/plain": [
       "<IPython.lib.display.IFrame at 0x2805708ae90>"
      ]
     },
     "metadata": {},
     "output_type": "display_data"
    },
    {
     "data": {
      "text/plain": []
     },
     "execution_count": 4,
     "metadata": {},
     "output_type": "execute_result"
    }
   ],
   "source": [
    "X = df.iloc[:, 1:].values\n",
    "Y = df.iloc[:, 0].values\n",
    "dtale.show(Y, ignore_duplicate=True)"
   ]
  },
  {
   "cell_type": "markdown",
   "id": "1fd81a79",
   "metadata": {},
   "source": [
    "3. Handling missing values and replacing missing values with nan from numpy and replace with mean of all the other values"
   ]
  },
  {
   "cell_type": "code",
   "execution_count": null,
   "id": "97ab8186",
   "metadata": {},
   "outputs": [
    {
     "data": {
      "text/html": [
       "\n",
       "        <iframe\n",
       "            width=\"100%\"\n",
       "            height=\"475\"\n",
       "            src=\"http://WandilePhinzi:40000/dtale/iframe/3\"\n",
       "            frameborder=\"0\"\n",
       "            allowfullscreen\n",
       "            \n",
       "        ></iframe>\n",
       "        "
      ],
      "text/plain": [
       "<IPython.lib.display.IFrame at 0x2805717c410>"
      ]
     },
     "metadata": {},
     "output_type": "display_data"
    },
    {
     "data": {
      "text/plain": []
     },
     "execution_count": 5,
     "metadata": {},
     "output_type": "execute_result"
    }
   ],
   "source": [
    "imputer = SimpleImputer(missing_values= np.nan, strategy='mean')\n",
    "cols_to_impute= [1,2,3,4,5,6,7,8,9,10]  # Fit the imputer on the data excluding the first column\n",
    "X[:,cols_to_impute] = imputer.fit_transform(X[:,cols_to_impute])\n",
    "dtale.show(X, ignore_duplicate=True)"
   ]
  },
  {
   "cell_type": "markdown",
   "id": "7b2dcc05",
   "metadata": {},
   "source": [
    "4. Encoding the categorical data"
   ]
  },
  {
   "cell_type": "code",
   "execution_count": 6,
   "id": "303aa78e",
   "metadata": {},
   "outputs": [],
   "source": [
    "#cols_to_encode = [3]\n",
    "# One-hot encode the categorical column\n",
    "#ct = ColumnTransformer(\n",
    "    #transformers=[\n",
    "        #(\"onehot\", OneHotEncoder(), cols_to_encode)  # Correct syntax\n",
    "    #],\n",
    "    #remainder=\"passthrough\"\n",
    "#)\n",
    "#X = ct.fit_transform(X)  # Returns a sparse matrix (use .toarray() if needed)\n",
    "\n",
    "# Encode target variable Y (ensure it's 1D)\n",
    "#labelencoder_Y = LabelEncoder()\n",
    "#Y = labelencoder_Y.fit_transform(Y.ravel())"
   ]
  },
  {
   "cell_type": "markdown",
   "id": "d0a904ee",
   "metadata": {},
   "source": [
    "5. Splitting the dataset intro training set and test set"
   ]
  },
  {
   "cell_type": "code",
   "execution_count": 7,
   "id": "c94146b5",
   "metadata": {},
   "outputs": [],
   "source": [
    "X_train, X_test, Y_train, Y_test = train_test_split(X, Y, test_size=0.2, random_state=0)"
   ]
  },
  {
   "cell_type": "markdown",
   "id": "236382cc",
   "metadata": {},
   "source": [
    "6. Feature Scaling"
   ]
  },
  {
   "cell_type": "code",
   "execution_count": 8,
   "id": "486b85ad",
   "metadata": {},
   "outputs": [
    {
     "data": {
      "text/html": [
       "\n",
       "        <iframe\n",
       "            width=\"100%\"\n",
       "            height=\"475\"\n",
       "            src=\"http://WandilePhinzi:40000/dtale/iframe/4\"\n",
       "            frameborder=\"0\"\n",
       "            allowfullscreen\n",
       "            \n",
       "        ></iframe>\n",
       "        "
      ],
      "text/plain": [
       "<IPython.lib.display.IFrame at 0x28055f53820>"
      ]
     },
     "metadata": {},
     "output_type": "display_data"
    },
    {
     "data": {
      "text/plain": []
     },
     "execution_count": 8,
     "metadata": {},
     "output_type": "execute_result"
    }
   ],
   "source": [
    "dtale.show(X_test)"
   ]
  },
  {
   "cell_type": "markdown",
   "id": "9bffe37a",
   "metadata": {},
   "source": [
    "7. Train the Random Forest Model"
   ]
  },
  {
   "cell_type": "code",
   "execution_count": 9,
   "id": "7036d7c1",
   "metadata": {},
   "outputs": [],
   "source": [
    "rf = RandomForestClassifier(n_estimators=100, max_depth=3, random_state=42)\n",
    "rf.fit(X_train, Y_train)\n",
    "\n",
    "Kfold = KFold(n_splits=10, shuffle=True, random_state=42)\n",
    "scores = cross_val_score(rf, X_train, Y_train, cv=Kfold, scoring='accuracy')\n",
    "\n",
    "Y_pred = rf.predict(X_test)"
   ]
  },
  {
   "cell_type": "code",
   "execution_count": 10,
   "id": "26559448",
   "metadata": {},
   "outputs": [
    {
     "name": "stdout",
     "output_type": "stream",
     "text": [
      "              precision    recall  f1-score   support\n",
      "\n",
      "         0.0       0.86      1.00      0.92     43525\n",
      "         1.0       0.00      0.00      0.00      7211\n",
      "\n",
      "    accuracy                           0.86     50736\n",
      "   macro avg       0.43      0.50      0.46     50736\n",
      "weighted avg       0.74      0.86      0.79     50736\n",
      "\n"
     ]
    },
    {
     "name": "stderr",
     "output_type": "stream",
     "text": [
      "C:\\Users\\Frank\\AppData\\Local\\Packages\\PythonSoftwareFoundation.Python.3.13_qbz5n2kfra8p0\\LocalCache\\local-packages\\Python313\\site-packages\\sklearn\\metrics\\_classification.py:1565: UndefinedMetricWarning:\n",
      "\n",
      "Precision is ill-defined and being set to 0.0 in labels with no predicted samples. Use `zero_division` parameter to control this behavior.\n",
      "\n",
      "C:\\Users\\Frank\\AppData\\Local\\Packages\\PythonSoftwareFoundation.Python.3.13_qbz5n2kfra8p0\\LocalCache\\local-packages\\Python313\\site-packages\\sklearn\\metrics\\_classification.py:1565: UndefinedMetricWarning:\n",
      "\n",
      "Precision is ill-defined and being set to 0.0 in labels with no predicted samples. Use `zero_division` parameter to control this behavior.\n",
      "\n",
      "C:\\Users\\Frank\\AppData\\Local\\Packages\\PythonSoftwareFoundation.Python.3.13_qbz5n2kfra8p0\\LocalCache\\local-packages\\Python313\\site-packages\\sklearn\\metrics\\_classification.py:1565: UndefinedMetricWarning:\n",
      "\n",
      "Precision is ill-defined and being set to 0.0 in labels with no predicted samples. Use `zero_division` parameter to control this behavior.\n",
      "\n"
     ]
    }
   ],
   "source": [
    "rf.score(X_test, Y_test)\n",
    "print(classification_report(Y_test, Y_pred))"
   ]
  },
  {
   "cell_type": "code",
   "execution_count": 11,
   "id": "018ddb32",
   "metadata": {},
   "outputs": [],
   "source": [
    "rf2 = RandomForestClassifier(\n",
    "    \n",
    "    n_estimators=1000,\n",
    "    criterion= 'entropy',\n",
    "    min_samples_split= 10,\n",
    "    random_state=42)"
   ]
  },
  {
   "cell_type": "markdown",
   "id": "332030e9",
   "metadata": {},
   "source": [
    "8. Retraining the model using Resampled data"
   ]
  },
  {
   "cell_type": "code",
   "execution_count": 12,
   "id": "2a0d12d0",
   "metadata": {},
   "outputs": [
    {
     "name": "stdout",
     "output_type": "stream",
     "text": [
      "0.0    174809\n",
      "1.0    174809\n",
      "Name: count, dtype: int64\n"
     ]
    }
   ],
   "source": [
    "smote_enn = SMOTE(sampling_strategy='minority', random_state=42)\n",
    "X_train_res, Y_train_res = smote_enn.fit_resample(X_train, Y_train)\n",
    "print(pd.Series(Y_train_res).value_counts())"
   ]
  },
  {
   "cell_type": "code",
   "execution_count": 13,
   "id": "4c4e7bb4",
   "metadata": {},
   "outputs": [],
   "source": [
    "model = RandomForestClassifier( random_state= 42)\n",
    "model.fit(X_train_res, Y_train_res) \n",
    "Kfold = KFold(n_splits=10, shuffle=True, random_state=42)\n",
    "scores = cross_val_score(model, X_train_res, Y_train_res, cv=Kfold, scoring='accuracy')"
   ]
  },
  {
   "cell_type": "code",
   "execution_count": 14,
   "id": "fb820887",
   "metadata": {},
   "outputs": [
    {
     "name": "stdout",
     "output_type": "stream",
     "text": [
      "              precision  recall  f1-score     support\n",
      "0.0              0.8843  0.9257    0.9045  43525.0000\n",
      "1.0              0.3749  0.2688    0.3131   7211.0000\n",
      "accuracy         0.8324  0.8324    0.8324      0.8324\n",
      "macro avg        0.6296  0.5972    0.6088  50736.0000\n",
      "weighted avg     0.8119  0.8324    0.8205  50736.0000\n",
      "ROC-AUC: 0.7622\n",
      "Sensitivity: 0.2688\n",
      "Specificity: 0.9257\n",
      "Confusion Matrix:\n",
      "[[40293  3232]\n",
      " [ 5273  1938]]\n",
      "Mean Accuracy:0.8983 (+/- 0.0015)\n"
     ]
    }
   ],
   "source": [
    "y_pred = model.predict(X_test)\n",
    "y_proba = model.predict_proba(X_test)[:, 1]\n",
    "sensitivity = recall_score(Y_test, y_pred, pos_label=1)\n",
    "roc_auc = roc_auc_score(Y_test, y_proba)\n",
    "\n",
    "tn, fp, fn, tp = confusion_matrix(Y_test, y_pred).ravel()\n",
    "specificity = tn / (tn + fp)\n",
    "\n",
    "report = classification_report(Y_test, y_pred, output_dict=True)\n",
    "df_report = pd.DataFrame(report).transpose()\n",
    "\n",
    "pd.set_option(\"display.precision\", 4)\n",
    "print(df_report)\n",
    "print(f\"ROC-AUC: {roc_auc:.4f}\")\n",
    "print(f\"Sensitivity: {sensitivity:.4f}\")\n",
    "print(f\"Specificity: {specificity:.4f}\")\n",
    "print(f\"Confusion Matrix:\\n{confusion_matrix(Y_test, y_pred)}\")\n",
    "print(f\"Mean Accuracy:{scores.mean():.4f} (+/- {scores.std():.4f})\")"
   ]
  }
 ],
 "metadata": {
  "kernelspec": {
   "display_name": "Python 3",
   "language": "python",
   "name": "python3"
  },
  "language_info": {
   "codemirror_mode": {
    "name": "ipython",
    "version": 3
   },
   "file_extension": ".py",
   "mimetype": "text/x-python",
   "name": "python",
   "nbconvert_exporter": "python",
   "pygments_lexer": "ipython3",
   "version": "3.13.5"
  }
 },
 "nbformat": 4,
 "nbformat_minor": 5
}
